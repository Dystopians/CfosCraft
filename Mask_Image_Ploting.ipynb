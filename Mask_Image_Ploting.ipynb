{
 "cells": [
  {
   "cell_type": "code",
   "execution_count": 1,
   "id": "36c7f815",
   "metadata": {},
   "outputs": [],
   "source": [
    "import json\n",
    "import matplotlib.pyplot as plt\n",
    "from tkinter import Tk\n",
    "from tkinter.filedialog import askopenfilenames"
   ]
  },
  {
   "cell_type": "code",
   "execution_count": 2,
   "id": "a7301a11",
   "metadata": {},
   "outputs": [
    {
     "name": "stdout",
     "output_type": "stream",
     "text": [
      "F:/00UNET/4-76.json\n"
     ]
    },
    {
     "data": {
      "image/png": "[encoded data removed]",
      "text/plain": [
       "<Figure size 100x100 with 1 Axes>"
      ]
     },
     "metadata": {},
     "output_type": "display_data"
    }
   ],
   "source": [
    "root1 = Tk()\n",
    "files = askopenfilenames(parent =root1, title = 'Please select the Labelme generated json files')\n",
    "\n",
    "for filename in files:\n",
    "    print(filename)\n",
    "    json_file_path = filename\n",
    "    with open(json_file_path,'r') as f:\n",
    "        #print(f)\n",
    "        data = json.load(f)\n",
    "\n",
    "\n",
    "    #To make a figure without the frame :\n",
    "    fig = plt.figure(frameon=False)\n",
    "    fig.set_size_inches(1,1)\n",
    "\n",
    "    # To make the content fill the whole figure\n",
    "    ax = plt.Axes(fig, [0., 0., 1., 1.])\n",
    "    ax.set_axis_off()\n",
    "    fig.add_axes(ax)\n",
    "\n",
    "    annotations = data['shapes']\n",
    "\n",
    "    # Plot the polygon\n",
    "    for annotation in annotations:\n",
    "        points = annotation['points']   #data['shapes'][i]['points']\n",
    "        x,y = zip(*points)\n",
    "        plt.fill(x,y,'k')\n",
    "\n",
    "        plt.xlim([0,128])\n",
    "        plt.ylim([0,128])\n",
    "\n",
    "\n",
    "    # Flip the plot horizontally and vertically\n",
    "\n",
    "    plt.gca().set_ylim(plt.gca().get_ylim()[::-1])\n",
    "    #plt.show()\n",
    "    #plt.savefig(json_path[:-5] + '_mask.png',dpi=128)\n",
    "\n",
    "    plt.savefig(json_file_path[:-4]+'_mask.png', dpi=128)"
   ]
  },
  {
   "cell_type": "code",
   "execution_count": 3,
   "id": "9a15219d",
   "metadata": {},
   "outputs": [
    {
     "name": "stdout",
     "output_type": "stream",
     "text": [
      "F:/00UNET/4-76._mask.png\n"
     ]
    }
   ],
   "source": [
    "# Show the plot\n",
    "from PIL import Image\n",
    "root1 = Tk()\n",
    "files = askopenfilenames(parent =root1, title = 'Please select the unthresholded mask image')\n",
    "\n",
    "for filename in files:\n",
    "    print(filename)\n",
    "    mask_file_path = filename\n",
    "    # Open the image\n",
    "    im = Image.open(mask_file_path)\n",
    "    # Convert the image to grayscale\n",
    "    im = im.convert('L')\n",
    "    # Threshold the image to obtain a binary image\n",
    "    threshold = 128\n",
    "    im = im.point(lambda p: p > threshold and 255)\n",
    "    # Save the binary image\n",
    "    im.save(mask_file_path, bbox_inches='tight', pad_inches=0)\n",
    "\n",
    "\n",
    "\n",
    "\n"
   ]
  },
  {
   "cell_type": "code",
   "execution_count": null,
   "id": "c1cfa514",
   "metadata": {},
   "outputs": [],
   "source": [
    "\n",
    "\n",
    "\n"
   ]
  },
  {
   "cell_type": "code",
   "execution_count": 12,
   "id": "237a3cb1",
   "metadata": {},
   "outputs": [],
   "source": []
  },
  {
   "cell_type": "code",
   "execution_count": null,
   "id": "32ade34b",
   "metadata": {},
   "outputs": [],
   "source": []
  }
 ],
 "metadata": {
  "kernelspec": {
   "display_name": "Python 3 (ipykernel)",
   "language": "python",
   "name": "python3"
  },
  "language_info": {
   "codemirror_mode": {
    "name": "ipython",
    "version": 3
   },
   "file_extension": ".py",
   "mimetype": "text/x-python",
   "name": "python",
   "nbconvert_exporter": "python",
   "pygments_lexer": "ipython3",
   "version": "3.9.13"
  }
 },
 "nbformat": 4,
 "nbformat_minor": 5
}
